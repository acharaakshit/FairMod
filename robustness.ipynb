{
 "cells": [
  {
   "cell_type": "code",
   "execution_count": null,
   "metadata": {},
   "outputs": [],
   "source": [
    "import pickle\n",
    "import fairness_metrics\n",
    "import pandas as pd\n",
    "from tqdm import tqdm"
   ]
  },
  {
   "cell_type": "code",
   "execution_count": null,
   "metadata": {},
   "outputs": [],
   "source": [
    "# read the data\n",
    "ideology_df = pd.read_csv('./data/processed_annotated_comments.csv')\n",
    "ideology_df['label'] = ideology_df['label'].apply(lambda x: None if x not in ['left', 'right'] else x)\n",
    "ideology_df.dropna(inplace=True)\n",
    "gender_df = pd.read_csv('./data/jigsaw/gender.csv')\n",
    "race_df = pd.read_csv('./data/jigsaw/race.csv')\n",
    "disability_df = pd.read_csv('./data/jigsaw/disability.csv')\n",
    "sexual_orientation_df = pd.read_csv('./data/jigsaw/sexual_orientation.csv')\n",
    "dfs = [ideology_df, gender_df, race_df, disability_df, sexual_orientation_df]\n",
    "names = ['ideology', 'gender', 'race', 'disability', 'sexual orientation']"
   ]
  },
  {
   "cell_type": "code",
   "execution_count": null,
   "metadata": {},
   "outputs": [],
   "source": [
    "# gold standard moderation\n",
    "with open('./results/comments_moderated_openai.pkl', 'rb') as handle:\n",
    "    gold1 = pickle.load(handle)\n",
    "\n",
    "with open('./results/comments_moderated_perspective_nonmanager.pkl', 'rb') as handle:\n",
    "    gold2 = pickle.load(handle)\n",
    "\n",
    "with open('./results/comments_moderation_google.pkl', 'rb') as handle:\n",
    "    gold3 = pickle.load(handle)\n",
    "\n",
    "with open('./results/comment_moderation_clarifai.pkl', 'rb') as handle:\n",
    "    gold4 = pickle.load(handle)"
   ]
  },
  {
   "cell_type": "code",
   "execution_count": null,
   "metadata": {},
   "outputs": [],
   "source": [
    "gold1 = utils.process_openai(gold1)\n",
    "gold2 = utils.process_perspective(gold2)\n",
    "gold3 = utils.process_google(gold3)\n",
    "gold4 = utils.process_clarifai(gold4)\n",
    "\n",
    "gold1 = {k: 0 if v is True else 1 for k,v in gold1.items()}\n",
    "gold2 = {k: 0 if v is True else 1 for k,v in gold2.items()}\n",
    "gold3 = {k:0 if v is True else 1 for k,v in gold3.items()}\n",
    "gold4 = {k:0 if v is True else 1 for k,v in gold4.items()}#{k:0 if max(list(v.values())) >= 0.5 else 1 for k,v in gold4.items()}"
   ]
  },
  {
   "cell_type": "code",
   "execution_count": null,
   "metadata": {},
   "outputs": [],
   "source": [
    "golds = [gold1, gold2, gold3, gold4]\n",
    "\n",
    "paraphrased = ['./results/comments_backtranslated_german_similarity.pkl', './results/comment_paraphrased_gpt-3.5_final.pkl']\n",
    "methods = ['openai', 'perspective','google', 'clarifai']\n",
    "gpt_moderations = [['./results/comments_backtranslated_german_moderated_openai.pkl',\n",
    "     './results/comments_paraphrased_gpt-3.5_final_moderated_openai.pkl'], \n",
    "     ['./results/comments_backtranslated_german_moderation_google_perspective_binary.pkl', \n",
    "     './results/comments_moderation_google_perspective_gpt-3.5_final_binary.pkl'],\n",
    "     ['./results/comments_backtranslated_german_moderation_google_latest_may25_binary.pkl',\n",
    "     './results/comment_paraphrased_gpt-3.5_final_moderation_google_latest_binary.pkl'],\n",
    "     ['./results/german_comment_moderation_clarifai.pkl',\n",
    "     './results/comment_paraphrased_gpt-3.5_final_moderation_clarifai.pkl']]\n",
    "\n",
    "results = []\n",
    "global_results = {}\n",
    "\n",
    "for gold, method, gpt_moderation in zip(golds, methods, gpt_moderations):\n",
    "    local_gold = gold.copy()\n",
    "    global_results[method] = {}\n",
    "    submethods = ['backtranslated', 'paraphrased']\n",
    "    for augmented, moderated, submethod in zip(paraphrased, gpt_moderation, submethods):\n",
    "        with open(augmented, 'rb') as handle:\n",
    "            data = pickle.load(handle)\n",
    "\n",
    "        with open(moderated, 'rb') as handle:\n",
    "            mod = pickle.load(handle)\n",
    "\n",
    "        if 'openai' == method:\n",
    "            mod = utils.process_openai(mod)\n",
    "        elif 'perspective' == method:\n",
    "            mod = utils.process_perspective(mod)\n",
    "        elif 'google' == method:\n",
    "            mod = utils.process_google(mod)\n",
    "        elif 'clarifai' == method:\n",
    "            mod = utils.process_clarifai(mod)\n",
    "\n",
    "        if 'backtranslated' == submethod:\n",
    "            data = {k:v['augmented'] for k,v in data.items() if v['score'] > 0.85 and v['score'] != 1.0}\n",
    "        \n",
    "        \n",
    "        data = {k:1-int(mod[v]) for k,v in data.items() if v in mod.keys()}\n",
    "\n",
    "        local_gold = {k:v for k,v in local_gold.items() if k in data.keys()}\n",
    "\n",
    "        # create lists and compute robustness\n",
    "        global_results[method][submethod] = {}\n",
    "        for subset, name in zip(dfs, names):\n",
    "            df = subset.copy()\n",
    "            df = df[df['text'].isin(list(local_gold.keys()))]\n",
    "            a = [local_gold[k] for k in df['text'].tolist()]\n",
    "            b = [data[k] for k in df['text'].tolist()]\n",
    "            \n",
    "            r = fairness_metrics.robustness(a, b)\n",
    "            global_results[method][submethod][name] = r*100\n",
    "            print(r*100, method, submethod, name)\n"
   ]
  },
  {
   "cell_type": "code",
   "execution_count": null,
   "metadata": {},
   "outputs": [],
   "source": [
    "global_results"
   ]
  }
 ],
 "metadata": {
  "kernelspec": {
   "display_name": "mod",
   "language": "python",
   "name": "python3"
  },
  "language_info": {
   "codemirror_mode": {
    "name": "ipython",
    "version": 3
   },
   "file_extension": ".py",
   "mimetype": "text/x-python",
   "name": "python",
   "nbconvert_exporter": "python",
   "pygments_lexer": "ipython3",
   "version": "3.11.8"
  }
 },
 "nbformat": 4,
 "nbformat_minor": 2
}
