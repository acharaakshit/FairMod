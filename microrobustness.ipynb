{
 "cells": [
  {
   "cell_type": "code",
   "execution_count": 13,
   "metadata": {},
   "outputs": [],
   "source": [
    "import pickle\n",
    "import fairness_metrics\n",
    "import pandas as pd\n",
    "from tqdm import tqdm\n",
    "import utils"
   ]
  },
  {
   "cell_type": "code",
   "execution_count": 14,
   "metadata": {},
   "outputs": [],
   "source": [
    "ideology_df = pd.read_csv('./data/processed_annotated_comments.csv')\n",
    "ideology_df['label'] = ideology_df['label'].apply(lambda x: None if x not in ['left', 'right'] else x)\n",
    "ideology_df.dropna(inplace=True)\n",
    "\n",
    "main_df = pd.read_csv('./data/jigsaw/main.csv')\n",
    "dfs = [ideology_df, main_df] \n",
    "names = ['ideology', 'jigsaw']"
   ]
  },
  {
   "cell_type": "code",
   "execution_count": 15,
   "metadata": {},
   "outputs": [],
   "source": [
    "# gold standard moderation\n",
    "with open('./results/comments_moderated_openai.pkl', 'rb') as handle:\n",
    "    gold1 = pickle.load(handle)\n",
    "\n",
    "with open('./results/comments_moderated_perspective_nonmanager.pkl', 'rb') as handle:\n",
    "    gold2 = pickle.load(handle)\n",
    "\n",
    "with open('./results/comments_moderation_google.pkl', 'rb') as handle:\n",
    "    gold3 = pickle.load(handle)\n",
    "\n",
    "with open('./results/comment_moderation_clarifai.pkl', 'rb') as handle:\n",
    "    gold4 = pickle.load(handle)"
   ]
  },
  {
   "cell_type": "code",
   "execution_count": 16,
   "metadata": {},
   "outputs": [
    {
     "name": "stdout",
     "output_type": "stream",
     "text": [
      "20\n"
     ]
    }
   ],
   "source": [
    "gold1 = utils.process_openai(gold1)\n",
    "gold2 = utils.process_perspective(gold2)\n",
    "gold3 = utils.process_google(gold3)\n",
    "gold4 = utils.process_clarifai(gold4)\n",
    "\n",
    "gold1 = {k: 0 if v is True else 1 for k,v in gold1.items()}\n",
    "gold2 = {k: 0 if v is True else 1 for k,v in gold2.items()}\n",
    "gold3 = {k:0 if v is True else 1 for k,v in gold3.items()}\n",
    "gold4 = {k:0 if v is True else 1 for k,v in gold4.items()}#{k:0 if max(list(v.values())) >= 0.5 else 1 for k,v in gold4.items()}"
   ]
  },
  {
   "cell_type": "code",
   "execution_count": 17,
   "metadata": {},
   "outputs": [],
   "source": [
    "def compute_percentage_change(main_list, list1):\n",
    "    indices_unsafe = [i for i, x in tqdm(enumerate(main_list)) if x == 'UNSAFE']\n",
    "    indices_safe = [i for i, x in tqdm(enumerate(main_list)) if x == 'SAFE']\n",
    "    indices_map = {'UNSAFE': indices_unsafe, 'SAFE': indices_safe}\n",
    "\n",
    "    category_map = {\n",
    "                    'UNSAFE': {'UNSAFE': [], 'SAFE': []},\n",
    "                    'SAFE': {'UNSAFE': [], 'SAFE': []}\n",
    "                    }\n",
    "    for k, v in category_map.items():\n",
    "        for subk, subv in v.items():\n",
    "            category_map[k][subk] = [l for idx, l in tqdm(enumerate(list1)) if idx in indices_map[k] and l == subk]\n",
    "            category_map[k][subk] = len(category_map[k][subk])/len(indices_map[k])\n",
    "\n",
    "    return category_map"
   ]
  },
  {
   "cell_type": "code",
   "execution_count": 18,
   "metadata": {},
   "outputs": [
    {
     "name": "stdout",
     "output_type": "stream",
     "text": [
      "openai backtranslated\n",
      "before data 114122\n"
     ]
    },
    {
     "name": "stderr",
     "output_type": "stream",
     "text": [
      "994it [00:00, 2525219.97it/s]\n",
      "994it [00:00, 727725.29it/s]\n",
      "994it [00:00, 287506.94it/s]\n",
      "994it [00:00, 273942.98it/s]\n",
      "994it [00:00, 91452.54it/s]\n",
      "994it [00:00, 88939.72it/s]\n",
      "100530it [00:00, 3551662.58it/s]\n",
      "100530it [00:00, 2983530.26it/s]\n",
      "100530it [00:41, 2403.81it/s]\n",
      "100530it [00:43, 2326.55it/s]\n",
      "100530it [01:09, 1448.18it/s]\n",
      "100530it [01:05, 1523.47it/s]\n"
     ]
    },
    {
     "name": "stdout",
     "output_type": "stream",
     "text": [
      "openai paraphrased\n",
      "before data 114122\n"
     ]
    },
    {
     "name": "stderr",
     "output_type": "stream",
     "text": [
      "1147it [00:00, 1941431.27it/s]\n",
      "1147it [00:00, 855265.19it/s]\n",
      "1147it [00:00, 232039.10it/s]\n",
      "1147it [00:00, 163958.38it/s]\n",
      "1147it [00:00, 137457.26it/s]\n",
      "1147it [00:00, 105805.42it/s]\n",
      "113412it [00:00, 3053937.80it/s]\n",
      "113412it [00:00, 3291068.13it/s]\n",
      "113412it [00:45, 2466.66it/s]\n",
      "113412it [00:45, 2469.00it/s]\n",
      "113412it [01:15, 1503.36it/s]\n",
      "113412it [01:15, 1504.61it/s]\n"
     ]
    },
    {
     "name": "stdout",
     "output_type": "stream",
     "text": [
      "perspective backtranslated\n",
      "before data 114122\n"
     ]
    },
    {
     "name": "stderr",
     "output_type": "stream",
     "text": [
      "994it [00:00, 1485264.76it/s]\n",
      "994it [00:00, 771205.73it/s]\n",
      "994it [00:00, 134879.92it/s]\n",
      "994it [00:00, 175505.71it/s]\n",
      "994it [00:00, 95862.09it/s]\n",
      "994it [00:00, 161607.03it/s]\n",
      "100530it [00:00, 3363271.76it/s]\n",
      "100530it [00:00, 2810048.39it/s]\n",
      "100530it [00:13, 7333.56it/s]\n",
      "100530it [00:13, 7207.90it/s]\n",
      "100530it [01:09, 1448.53it/s]\n",
      "100530it [01:09, 1453.06it/s]\n"
     ]
    },
    {
     "name": "stdout",
     "output_type": "stream",
     "text": [
      "perspective paraphrased\n",
      "before data 114122\n"
     ]
    },
    {
     "name": "stderr",
     "output_type": "stream",
     "text": [
      "1147it [00:00, 1622004.95it/s]\n",
      "1147it [00:00, 1389219.37it/s]\n",
      "1147it [00:00, 314826.69it/s]\n",
      "1147it [00:00, 195373.08it/s]\n",
      "1147it [00:00, 74706.38it/s]\n",
      "1147it [00:00, 72616.86it/s]\n",
      "113412it [00:00, 2735516.33it/s]\n",
      "113412it [00:00, 2858113.51it/s]\n",
      "113412it [00:19, 5756.62it/s]\n",
      "113412it [00:19, 5927.75it/s]\n",
      "113412it [01:27, 1302.58it/s]\n",
      "113412it [01:26, 1308.13it/s]\n"
     ]
    },
    {
     "name": "stdout",
     "output_type": "stream",
     "text": [
      "google backtranslated\n",
      "before data 114122\n",
      "26\n"
     ]
    },
    {
     "name": "stderr",
     "output_type": "stream",
     "text": [
      "994it [00:00, 2297045.83it/s]\n",
      "994it [00:00, 2517595.52it/s]\n",
      "994it [00:00, 91772.62it/s]\n",
      "994it [00:00, 85712.43it/s]\n",
      "994it [00:00, 160648.05it/s]\n",
      "994it [00:00, 223199.22it/s]\n",
      "100498it [00:00, 2964791.02it/s]\n",
      "100498it [00:00, 2288141.63it/s]\n",
      "100498it [01:05, 1536.89it/s]\n",
      "100498it [01:05, 1541.75it/s]\n",
      "100498it [00:28, 3552.08it/s]\n",
      "100498it [00:28, 3556.45it/s]\n"
     ]
    },
    {
     "name": "stdout",
     "output_type": "stream",
     "text": [
      "google paraphrased\n",
      "before data 114122\n",
      "26\n"
     ]
    },
    {
     "name": "stderr",
     "output_type": "stream",
     "text": [
      "1147it [00:00, 2532035.10it/s]\n",
      "1147it [00:00, 1026865.89it/s]\n",
      "1147it [00:00, 69478.02it/s]\n",
      "1147it [00:00, 74279.60it/s]\n",
      "1147it [00:00, 160463.85it/s]\n",
      "1147it [00:00, 181995.41it/s]\n",
      "113358it [00:00, 2508959.77it/s]\n",
      "113358it [00:00, 2873986.24it/s]\n",
      "113358it [01:26, 1314.70it/s]\n",
      "113358it [01:26, 1313.64it/s]\n",
      "113358it [00:39, 2899.40it/s]\n",
      "113358it [00:38, 2952.21it/s]\n"
     ]
    },
    {
     "name": "stdout",
     "output_type": "stream",
     "text": [
      "clarifai backtranslated\n",
      "before data 114122\n"
     ]
    },
    {
     "name": "stderr",
     "output_type": "stream",
     "text": [
      "994it [00:00, 864607.67it/s]\n",
      "994it [00:00, 1016367.18it/s]\n",
      "994it [00:00, 73520.70it/s]\n",
      "994it [00:00, 85406.91it/s]\n",
      "994it [00:00, 261126.03it/s]\n",
      "994it [00:00, 262970.74it/s]\n",
      "100530it [00:00, 3205514.53it/s]\n",
      "100530it [00:00, 2817107.49it/s]\n",
      "100530it [01:08, 1468.54it/s]\n",
      "100530it [01:08, 1476.12it/s]\n",
      "100530it [00:08, 11640.96it/s]\n",
      "100530it [00:08, 11475.04it/s]\n"
     ]
    },
    {
     "name": "stdout",
     "output_type": "stream",
     "text": [
      "clarifai paraphrased\n",
      "before data 114122\n"
     ]
    },
    {
     "name": "stderr",
     "output_type": "stream",
     "text": [
      "1147it [00:00, 1279145.62it/s]\n",
      "1147it [00:00, 1772611.16it/s]\n",
      "1147it [00:00, 64704.80it/s]\n",
      "1147it [00:00, 74273.86it/s]\n",
      "1147it [00:00, 251312.06it/s]\n",
      "1147it [00:00, 277331.34it/s]\n",
      "113412it [00:00, 2931636.49it/s]\n",
      "113412it [00:00, 2784255.04it/s]\n",
      "113412it [01:28, 1281.86it/s]\n",
      "113412it [01:28, 1280.25it/s]\n",
      "113412it [00:11, 9854.38it/s]\n",
      "113412it [00:11, 9811.88it/s] "
     ]
    },
    {
     "name": "stdout",
     "output_type": "stream",
     "text": [
      "{'openai': {'backtranslated': {'ideology': {'UNSAFE': {'UNSAFE': 0.8897058823529411, 'SAFE': 0.11029411764705882}, 'SAFE': {'UNSAFE': 0.037396121883656507, 'SAFE': 0.9626038781163435}}, 'jigsaw': {'UNSAFE': {'UNSAFE': 0.9181740134403031, 'SAFE': 0.08182598655969685}, 'SAFE': {'UNSAFE': 0.036418930053482346, 'SAFE': 0.9635810699465177}}}, 'paraphrased': {'ideology': {'UNSAFE': {'UNSAFE': 0.2971246006389776, 'SAFE': 0.7028753993610224}, 'SAFE': {'UNSAFE': 0.011990407673860911, 'SAFE': 0.988009592326139}}, 'jigsaw': {'UNSAFE': {'UNSAFE': 0.34940427443003197, 'SAFE': 0.650595725569968}, 'SAFE': {'UNSAFE': 0.02027554626186159, 'SAFE': 0.9797244537381384}}}}, 'perspective': {'backtranslated': {'ideology': {'UNSAFE': {'UNSAFE': 0.9385474860335196, 'SAFE': 0.061452513966480445}, 'SAFE': {'UNSAFE': 0.008588957055214725, 'SAFE': 0.9914110429447853}}, 'jigsaw': {'UNSAFE': {'UNSAFE': 0.9350671001083605, 'SAFE': 0.06493289989163957}, 'SAFE': {'UNSAFE': 0.008392350874815041, 'SAFE': 0.991607649125185}}}, 'paraphrased': {'ideology': {'UNSAFE': {'UNSAFE': 0.22926829268292684, 'SAFE': 0.7707317073170732}, 'SAFE': {'UNSAFE': 0.0031847133757961785, 'SAFE': 0.9968152866242038}}, 'jigsaw': {'UNSAFE': {'UNSAFE': 0.3556912028725314, 'SAFE': 0.6443087971274686}, 'SAFE': {'UNSAFE': 0.008865479911948295, 'SAFE': 0.9911345200880517}}}}, 'google': {'backtranslated': {'ideology': {'UNSAFE': {'UNSAFE': 0.9603072983354674, 'SAFE': 0.03969270166453265}, 'SAFE': {'UNSAFE': 0.15492957746478872, 'SAFE': 0.8450704225352113}}, 'jigsaw': {'UNSAFE': {'UNSAFE': 0.972053046481584, 'SAFE': 0.027946953518415987}, 'SAFE': {'UNSAFE': 0.08084415584415584, 'SAFE': 0.9191558441558442}}}, 'paraphrased': {'ideology': {'UNSAFE': {'UNSAFE': 0.8936170212765957, 'SAFE': 0.10638297872340426}, 'SAFE': {'UNSAFE': 0.41338582677165353, 'SAFE': 0.5866141732283464}}, 'jigsaw': {'UNSAFE': {'UNSAFE': 0.8982817379739471, 'SAFE': 0.10171826202605298}, 'SAFE': {'UNSAFE': 0.22353748498884887, 'SAFE': 0.7764625150111512}}}}, 'clarifai': {'backtranslated': {'ideology': {'UNSAFE': {'UNSAFE': 0.9870892018779343, 'SAFE': 0.012910798122065728}, 'SAFE': {'UNSAFE': 0.08450704225352113, 'SAFE': 0.9154929577464789}}, 'jigsaw': {'UNSAFE': {'UNSAFE': 0.98990082892454, 'SAFE': 0.010099171075459977}, 'SAFE': {'UNSAFE': 0.12325321408608161, 'SAFE': 0.8767467859139184}}}, 'paraphrased': {'ideology': {'UNSAFE': {'UNSAFE': 0.9989847715736041, 'SAFE': 0.0010152284263959391}, 'SAFE': {'UNSAFE': 0.9012345679012346, 'SAFE': 0.09876543209876543}}, 'jigsaw': {'UNSAFE': {'UNSAFE': 0.9955124479548768, 'SAFE': 0.004487552045123241}, 'SAFE': {'UNSAFE': 0.7798935541099941, 'SAFE': 0.22010644589000591}}}}}\n"
     ]
    },
    {
     "name": "stderr",
     "output_type": "stream",
     "text": [
      "\n"
     ]
    }
   ],
   "source": [
    "golds = [gold1, gold2, gold3, gold4]\n",
    "\n",
    "paraphrased = ['./results/comments_backtranslated_german_similarity.pkl', './results/comment_paraphrased_gpt-3.5_final.pkl']\n",
    "methods = ['openai', 'perspective','google', 'clarifai']\n",
    "gpt_moderations = [['./results/comments_backtranslated_german_moderated_openai.pkl',\n",
    "     './results/comments_paraphrased_gpt-3.5_final_moderated_openai.pkl'], \n",
    "     ['./results/comments_backtranslated_german_moderation_google_perspective.pkl', \n",
    "     './results/comments_moderation_google_perspective_gpt-3.5_final.pkl'],\n",
    "     ['./results/comments_backtranslated_german_moderation_google_latest_may25.pkl',\n",
    "     './results/comment_paraphrased_gpt-3.5_final_moderation_google_latest.pkl'],\n",
    "     ['./results/german_comment_moderation_clarifai.pkl',\n",
    "     './results/comment_paraphrased_gpt-3.5_final_moderation_clarifai.pkl']]\n",
    "\n",
    "results = []\n",
    "global_results = {}\n",
    "\n",
    "for gold, method, gpt_moderation in zip(golds, methods, gpt_moderations):\n",
    "    global_results[method] = {}\n",
    "    submethods = ['backtranslated', 'paraphrased']\n",
    "    for augmented, moderated, submethod in zip(paraphrased, gpt_moderation, submethods):\n",
    "        local_gold = gold.copy()\n",
    "        with open(augmented, 'rb') as handle:\n",
    "            data = pickle.load(handle)\n",
    "\n",
    "        with open(moderated, 'rb') as handle:\n",
    "            mod = pickle.load(handle)\n",
    "\n",
    "        if 'openai' == method:\n",
    "            mod = utils.process_openai(mod)\n",
    "        elif 'perspective' == method:\n",
    "            mod = utils.process_perspective(mod)\n",
    "        elif 'google' == method:\n",
    "            mod = utils.process_google(mod)\n",
    "        elif 'clarifai' == method:\n",
    "            mod = utils.process_clarifai(mod)\n",
    "\n",
    "        if 'backtranslated' == submethod:\n",
    "            data = {k:v['augmented'] for k,v in data.items() if v['score'] > 0.85 and v['score'] != 1.0}\n",
    "\n",
    "        \n",
    "        data = {k:1-int(mod[v]) for k,v in data.items() if v in mod.keys()}\n",
    "\n",
    "        local_gold = {k:v for k,v in local_gold.items() if k in data.keys()}\n",
    "\n",
    "        # create lists and compute robustness\n",
    "        global_results[method][submethod] = {}\n",
    "        for subset, name in zip(dfs, names):\n",
    "            df = subset.copy()\n",
    "            df = df[df['text'].isin(list(local_gold.keys()))]\n",
    "            a = ['UNSAFE' if local_gold[k] == 0 else 'SAFE' for k in df['text'].tolist()]\n",
    "            b = ['UNSAFE' if data[k] == 0 else 'SAFE' for k in df['text'].tolist()]\n",
    "            change_map = compute_percentage_change(a, b)\n",
    "            global_results[method][submethod][name] = change_map\n"
   ]
  },
  {
   "cell_type": "code",
   "execution_count": 19,
   "metadata": {},
   "outputs": [],
   "source": [
    "import pickle\n",
    "with open('heatmap_latest.pkl', 'wb') as handle:\n",
    "    pickle.dump(global_results, handle, protocol=pickle.HIGHEST_PROTOCOL)"
   ]
  },
  {
   "cell_type": "code",
   "execution_count": 20,
   "metadata": {},
   "outputs": [
    {
     "data": {
      "image/png": "[encoded data removed]",
      "text/plain": [
       "<Figure size 1500x300 with 5 Axes>"
      ]
     },
     "metadata": {},
     "output_type": "display_data"
    }
   ],
   "source": [
    "import matplotlib.pyplot as plt\n",
    "import seaborn as sns\n",
    "import numpy as np\n",
    "\n",
    "labels = ['UNSAFE', 'SAFE']\n",
    "titles = ['OpenAI', 'Clarifai', 'Perspective', 'PaLM2']\n",
    "\n",
    "data=[v['paraphrased']['ideology'] for k,v in global_results.items()]\n",
    "data = [data[0], data[3], data[1], data[2]]\n",
    "\n",
    "heatmap_data = [np.zeros((2,2)) for _ in range(len(data))]\n",
    "\n",
    "global_max = -np.inf\n",
    "global_min = np.inf\n",
    "\n",
    "for i, row in enumerate(data):\n",
    "    for j, col in enumerate(row.values()):\n",
    "        for k, val in enumerate(col.values()):\n",
    "            heatmap_data[i][j, k] = val\n",
    "            if val > global_max:\n",
    "                global_max = val\n",
    "            if val < global_min:\n",
    "                global_min = val\n",
    "\n",
    "fig, axes = plt.subplots(1, len(data), figsize=(15,3), sharey=True)\n",
    "fig.subplots_adjust(wspace=0.01)\n",
    "for i, ax in enumerate(axes):\n",
    "    sns.heatmap(heatmap_data[i], annot=True, fmt=\".2f\", cmap=\"crest\", xticklabels=labels, yticklabels=labels, ax=ax, annot_kws={\"size\":16}, vmin=global_min, vmax=global_max, cbar=False)\n",
    "    ax.set_title(titles[i], fontsize=20)\n",
    "    ax.xaxis.set_tick_params(labelsize=20)\n",
    "    ax.yaxis.set_tick_params(labelsize=20)\n",
    "    plt.setp(ax.get_xticklabels(), rotation=90, ha=\"right\")\n",
    "\n",
    "cbar = fig.colorbar(axes[0].collections[0], ax=axes, orientation='vertical')\n",
    "cbar.set_label('Change (%)')\n",
    "cbar.ax.tick_params(labelsize=12)\n",
    "cbar.ax.yaxis.label.set_size(12)\n",
    "\n",
    "plt.show()"
   ]
  }
 ],
 "metadata": {
  "kernelspec": {
   "display_name": "mod",
   "language": "python",
   "name": "python3"
  },
  "language_info": {
   "codemirror_mode": {
    "name": "ipython",
    "version": 3
   },
   "file_extension": ".py",
   "mimetype": "text/x-python",
   "name": "python",
   "nbconvert_exporter": "python",
   "pygments_lexer": "ipython3",
   "version": "3.11.8"
  }
 },
 "nbformat": 4,
 "nbformat_minor": 2
}
