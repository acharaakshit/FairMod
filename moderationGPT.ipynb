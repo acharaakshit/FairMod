{
 "cells": [
  {
   "cell_type": "code",
   "execution_count": 2,
   "metadata": {},
   "outputs": [],
   "source": [
    "from openai import OpenAI\n",
    "import os\n",
    "import pickle\n",
    "import pandas as pd\n",
    "import utils\n",
    "import numpy as np\n",
    "from tqdm import tqdm"
   ]
  },
  {
   "cell_type": "code",
   "execution_count": 3,
   "metadata": {},
   "outputs": [],
   "source": [
    "# check if the openai api key is set in the environment\n",
    "assert 'OPENAI_API_KEY' in os.environ.keys()\n",
    "client = OpenAI()"
   ]
  },
  {
   "cell_type": "code",
   "execution_count": 3,
   "metadata": {},
   "outputs": [
    {
     "name": "stdout",
     "output_type": "stream",
     "text": [
      "114122\n"
     ]
    }
   ],
   "source": [
    "with open('./data/comments.pkl', 'rb') as handle:\n",
    "    comments = pickle.load(handle)\n",
    "print(len(set(comments)))\n",
    "\n",
    "with open('./results/comment_paraphrased_gpt-3.5_final.pkl', 'rb') as handle:\n",
    "    comment_map = pickle.load(handle)\n",
    "\n",
    "comments = list(set(list(comment_map.values())))\n",
    "len(comments)\n",
    "comments = [comment for comment in comments if type(comment) == str]"
   ]
  },
  {
   "cell_type": "code",
   "execution_count": 4,
   "metadata": {},
   "outputs": [
    {
     "name": "stderr",
     "output_type": "stream",
     "text": [
      "0it [00:00, ?it/s]"
     ]
    },
    {
     "name": "stderr",
     "output_type": "stream",
     "text": [
      "11411it [4:18:00,  1.36s/it]\n"
     ]
    }
   ],
   "source": [
    "moderations = []\n",
    "moderations += utils.modRun(client=client, texts=comments, model='text-moderation-stable')"
   ]
  },
  {
   "cell_type": "code",
   "execution_count": 5,
   "metadata": {},
   "outputs": [
    {
     "name": "stderr",
     "output_type": "stream",
     "text": [
      "114107it [00:00, 983119.83it/s]\n"
     ]
    }
   ],
   "source": [
    "moderation_map = {}\n",
    "for comment, moderation in tqdm(zip(comments, moderations)):\n",
    "    moderation_map[comment] = moderation"
   ]
  },
  {
   "cell_type": "code",
   "execution_count": 6,
   "metadata": {},
   "outputs": [],
   "source": [
    "with open('./results/comments_paraphrased_gpt-3.5_final_moderated_openai.pkl', 'wb') as handle:\n",
    "    pickle.dump(moderation_map, handle, protocol=pickle.HIGHEST_PROTOCOL)"
   ]
  }
 ],
 "metadata": {
  "kernelspec": {
   "display_name": "mod",
   "language": "python",
   "name": "python3"
  },
  "language_info": {
   "codemirror_mode": {
    "name": "ipython",
    "version": 3
   },
   "file_extension": ".py",
   "mimetype": "text/x-python",
   "name": "python",
   "nbconvert_exporter": "python",
   "pygments_lexer": "ipython3",
   "version": "3.11.8"
  }
 },
 "nbformat": 4,
 "nbformat_minor": 2
}
