{
 "cells": [
  {
   "cell_type": "code",
   "execution_count": 8,
   "metadata": {},
   "outputs": [],
   "source": [
    "from openai import OpenAI\n",
    "import os\n",
    "import pandas as pd\n",
    "import numpy as np\n",
    "from tqdm import tqdm\n",
    "import pickle"
   ]
  },
  {
   "cell_type": "code",
   "execution_count": 9,
   "metadata": {},
   "outputs": [],
   "source": [
    "# check if the openai api key is set in the environment\n",
    "assert 'OPENAI_API_KEY' in os.environ.keys()\n",
    "client = OpenAI()"
   ]
  },
  {
   "cell_type": "code",
   "execution_count": 10,
   "metadata": {},
   "outputs": [],
   "source": [
    "# batched queries to chatGPT moderation API\n",
    "def modAPI(model, text=[\"Sample text goes here.\", \"Sample text again goes here.\"]):\n",
    "    response = client.moderations.create(input=text, model=model)\n",
    "    outputs = response.results\n",
    "    moderation_results = []\n",
    "    for output in outputs:\n",
    "        flagged = output.flagged\n",
    "        categories_flagged = output.categories\n",
    "        scores = output.category_scores\n",
    "        moderation_results += [(flagged, categories_flagged, scores)]\n",
    "    return moderation_results"
   ]
  },
  {
   "cell_type": "code",
   "execution_count": 11,
   "metadata": {},
   "outputs": [],
   "source": [
    "def modRun(df, model='text-moderation-stable'):\n",
    "    moderations = []\n",
    "    for chunk in tqdm(chunker(df,10)):\n",
    "        moderations += modAPI(model=model, text=chunk['text'].tolist())\n",
    "    return moderations"
   ]
  },
  {
   "cell_type": "code",
   "execution_count": 19,
   "metadata": {},
   "outputs": [],
   "source": [
    "data = pd.read_csv('./data/ideology_annotated.csv')\n",
    "del data['Unnamed: 0']"
   ]
  },
  {
   "cell_type": "code",
   "execution_count": 13,
   "metadata": {},
   "outputs": [],
   "source": [
    "def postprocessing(df, moderations):\n",
    "    df['moderation'] = moderations\n",
    "    df[['flagged_run', 'categories', 'scores']] = pd.DataFrame(df['moderation'].tolist(), index=df.index)\n",
    "    df['categories'] = df['categories'].apply(lambda x: dict(x))\n",
    "    df['scores'] = df['scores'].apply(lambda x: dict(x))\n",
    "    return df"
   ]
  },
  {
   "cell_type": "code",
   "execution_count": 14,
   "metadata": {},
   "outputs": [],
   "source": [
    "def chunker(seq, size):\n",
    "    return (seq[pos:pos + size] for pos in range(0, len(seq), size))"
   ]
  },
  {
   "cell_type": "code",
   "execution_count": 20,
   "metadata": {},
   "outputs": [
    {
     "name": "stderr",
     "output_type": "stream",
     "text": [
      "1it [00:00,  1.60it/s]"
     ]
    },
    {
     "name": "stdout",
     "output_type": "stream",
     "text": [
      "                                                text  label_id      subreddit  \\\n",
      "0  > On one hand fuck Russia, on the other hand I...         2      Socialism   \n",
      "1  This could actually be a mind numbing amount o...         2  conservatives   \n",
      "2  What if that self determination leads to fasci...         2      Socialism   \n",
      "3  We need Benson to hold the seat.  Donated and ...         0      Democrats   \n",
      "4  I do not like gerrymandering no matter who is ...         2      Democrats   \n",
      "5  That is huge, size wise. Read a bit of chapter...         0      Socialism   \n",
      "6  That's what happens when the US and UK empires...         2      Socialism   \n",
      "7  Pleading the Fifth can be used against people ...         2      Democrats   \n",
      "8  >”War is Peace\\n\\n>Freedom is Slavery \\n\\n>Ign...         2      Socialism   \n",
      "9                     The shooter wasn't republican.         1      Democrats   \n",
      "\n",
      "      label                                         moderation  flagged_run  \\\n",
      "0  balanced  (True, Categories(harassment=True, harassment_...         True   \n",
      "1  balanced  (False, Categories(harassment=False, harassmen...        False   \n",
      "2  balanced  (False, Categories(harassment=False, harassmen...        False   \n",
      "3      left  (False, Categories(harassment=False, harassmen...        False   \n",
      "4  balanced  (False, Categories(harassment=False, harassmen...        False   \n",
      "5      left  (True, Categories(harassment=True, harassment_...         True   \n",
      "6  balanced  (False, Categories(harassment=False, harassmen...        False   \n",
      "7  balanced  (False, Categories(harassment=False, harassmen...        False   \n",
      "8  balanced  (False, Categories(harassment=False, harassmen...        False   \n",
      "9     right  (False, Categories(harassment=False, harassmen...        False   \n",
      "\n",
      "                                          categories  \\\n",
      "0  {'harassment': True, 'harassment_threatening':...   \n",
      "1  {'harassment': False, 'harassment_threatening'...   \n",
      "2  {'harassment': False, 'harassment_threatening'...   \n",
      "3  {'harassment': False, 'harassment_threatening'...   \n",
      "4  {'harassment': False, 'harassment_threatening'...   \n",
      "5  {'harassment': True, 'harassment_threatening':...   \n",
      "6  {'harassment': False, 'harassment_threatening'...   \n",
      "7  {'harassment': False, 'harassment_threatening'...   \n",
      "8  {'harassment': False, 'harassment_threatening'...   \n",
      "9  {'harassment': False, 'harassment_threatening'...   \n",
      "\n",
      "                                              scores  \n",
      "0  {'harassment': 0.48015710711479187, 'harassmen...  \n",
      "1  {'harassment': 0.014170987531542778, 'harassme...  \n",
      "2  {'harassment': 0.014653942547738552, 'harassme...  \n",
      "3  {'harassment': 8.50983924465254e-05, 'harassme...  \n",
      "4  {'harassment': 0.00030460080597549677, 'harass...  \n",
      "5  {'harassment': 0.45375511050224304, 'harassmen...  \n",
      "6  {'harassment': 0.100887730717659, 'harassment_...  \n",
      "7  {'harassment': 0.00020548792963381857, 'harass...  \n",
      "8  {'harassment': 0.05243220925331116, 'harassmen...  \n",
      "9  {'harassment': 0.0021818329114466906, 'harassm...  \n"
     ]
    },
    {
     "name": "stderr",
     "output_type": "stream",
     "text": [
      "\n",
      "/tmp/ipykernel_57737/2379791463.py:2: SettingWithCopyWarning: \n",
      "A value is trying to be set on a copy of a slice from a DataFrame.\n",
      "Try using .loc[row_indexer,col_indexer] = value instead\n",
      "\n",
      "See the caveats in the documentation: https://pandas.pydata.org/pandas-docs/stable/user_guide/indexing.html#returning-a-view-versus-a-copy\n",
      "  df['moderation'] = moderations\n",
      "/tmp/ipykernel_57737/2379791463.py:3: SettingWithCopyWarning: \n",
      "A value is trying to be set on a copy of a slice from a DataFrame.\n",
      "Try using .loc[row_indexer,col_indexer] = value instead\n",
      "\n",
      "See the caveats in the documentation: https://pandas.pydata.org/pandas-docs/stable/user_guide/indexing.html#returning-a-view-versus-a-copy\n",
      "  df[['flagged_run', 'categories', 'scores']] = pd.DataFrame(df['moderation'].tolist(), index=df.index)\n",
      "/tmp/ipykernel_57737/2379791463.py:3: SettingWithCopyWarning: \n",
      "A value is trying to be set on a copy of a slice from a DataFrame.\n",
      "Try using .loc[row_indexer,col_indexer] = value instead\n",
      "\n",
      "See the caveats in the documentation: https://pandas.pydata.org/pandas-docs/stable/user_guide/indexing.html#returning-a-view-versus-a-copy\n",
      "  df[['flagged_run', 'categories', 'scores']] = pd.DataFrame(df['moderation'].tolist(), index=df.index)\n",
      "/tmp/ipykernel_57737/2379791463.py:3: SettingWithCopyWarning: \n",
      "A value is trying to be set on a copy of a slice from a DataFrame.\n",
      "Try using .loc[row_indexer,col_indexer] = value instead\n",
      "\n",
      "See the caveats in the documentation: https://pandas.pydata.org/pandas-docs/stable/user_guide/indexing.html#returning-a-view-versus-a-copy\n",
      "  df[['flagged_run', 'categories', 'scores']] = pd.DataFrame(df['moderation'].tolist(), index=df.index)\n",
      "/tmp/ipykernel_57737/2379791463.py:4: SettingWithCopyWarning: \n",
      "A value is trying to be set on a copy of a slice from a DataFrame.\n",
      "Try using .loc[row_indexer,col_indexer] = value instead\n",
      "\n",
      "See the caveats in the documentation: https://pandas.pydata.org/pandas-docs/stable/user_guide/indexing.html#returning-a-view-versus-a-copy\n",
      "  df['categories'] = df['categories'].apply(lambda x: dict(x))\n",
      "/tmp/ipykernel_57737/2379791463.py:5: SettingWithCopyWarning: \n",
      "A value is trying to be set on a copy of a slice from a DataFrame.\n",
      "Try using .loc[row_indexer,col_indexer] = value instead\n",
      "\n",
      "See the caveats in the documentation: https://pandas.pydata.org/pandas-docs/stable/user_guide/indexing.html#returning-a-view-versus-a-copy\n",
      "  df['scores'] = df['scores'].apply(lambda x: dict(x))\n"
     ]
    }
   ],
   "source": [
    "moderations = modRun(df=data[:10], model='text-moderation-stable')\n",
    "outputs = postprocessing(data[:10], moderations)\n",
    "print(outputs)"
   ]
  }
 ],
 "metadata": {
  "kernelspec": {
   "display_name": "mod",
   "language": "python",
   "name": "python3"
  },
  "language_info": {
   "codemirror_mode": {
    "name": "ipython",
    "version": 3
   },
   "file_extension": ".py",
   "mimetype": "text/x-python",
   "name": "python",
   "nbconvert_exporter": "python",
   "pygments_lexer": "ipython3",
   "version": "3.11.8"
  }
 },
 "nbformat": 4,
 "nbformat_minor": 2
}
