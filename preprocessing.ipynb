{
 "cells": [
  {
   "cell_type": "code",
   "execution_count": 48,
   "metadata": {},
   "outputs": [],
   "source": [
    "from openai import OpenAI\n",
    "import os\n",
    "import pandas as pd\n",
    "import numpy as np\n",
    "from tqdm import tqdm\n",
    "import pickle"
   ]
  },
  {
   "cell_type": "code",
   "execution_count": 8,
   "metadata": {},
   "outputs": [],
   "source": [
    "# check if the openai api key is set in the environment\n",
    "assert 'OPENAI_API_KEY' in os.environ.keys()\n",
    "client = OpenAI()"
   ]
  },
  {
   "cell_type": "code",
   "execution_count": 45,
   "metadata": {},
   "outputs": [],
   "source": [
    "# batched queries to chatGPT moderation API\n",
    "def modAPI(text=[\"Sample text goes here.\", \"Sample text again goes here.\"]):\n",
    "    response = client.moderations.create(input=text)\n",
    "    outputs = response.results\n",
    "    moderation_results = []\n",
    "    for output in outputs:\n",
    "        flagged = output.flagged\n",
    "        categories_flagged = output.categories\n",
    "        scores = output.category_scores\n",
    "        moderation_results += [(flagged, categories_flagged, scores)]\n",
    "    return moderation_results"
   ]
  },
  {
   "cell_type": "code",
   "execution_count": 21,
   "metadata": {},
   "outputs": [],
   "source": [
    "# read the csv data\n",
    "far_left = pd.read_csv('./data/clean_combined_far-left.csv')[['body', 'flagged']]\n",
    "far_right = pd.read_csv('./data/clean_combined_far-right.csv')[['body', 'flagged']]\n",
    "left = pd.read_csv('./data/clean_combined_left.csv')[['body', 'flagged']]\n",
    "right = pd.read_csv('./data/clean_combined_right.csv')[['body', 'flagged']]"
   ]
  },
  {
   "cell_type": "code",
   "execution_count": 22,
   "metadata": {},
   "outputs": [
    {
     "data": {
      "text/html": [
       "<div>\n",
       "<style scoped>\n",
       "    .dataframe tbody tr th:only-of-type {\n",
       "        vertical-align: middle;\n",
       "    }\n",
       "\n",
       "    .dataframe tbody tr th {\n",
       "        vertical-align: top;\n",
       "    }\n",
       "\n",
       "    .dataframe thead th {\n",
       "        text-align: right;\n",
       "    }\n",
       "</style>\n",
       "<table border=\"1\" class=\"dataframe\">\n",
       "  <thead>\n",
       "    <tr style=\"text-align: right;\">\n",
       "      <th></th>\n",
       "      <th>body</th>\n",
       "      <th>flagged</th>\n",
       "    </tr>\n",
       "  </thead>\n",
       "  <tbody>\n",
       "    <tr>\n",
       "      <th>0</th>\n",
       "      <td>This is a good tactic. People are moved in dif...</td>\n",
       "      <td>1</td>\n",
       "    </tr>\n",
       "    <tr>\n",
       "      <th>1</th>\n",
       "      <td>Mussolini was seen as a great leader by all th...</td>\n",
       "      <td>1</td>\n",
       "    </tr>\n",
       "    <tr>\n",
       "      <th>2</th>\n",
       "      <td>[Multiculturalism for Israel!](</td>\n",
       "      <td>1</td>\n",
       "    </tr>\n",
       "    <tr>\n",
       "      <th>3</th>\n",
       "      <td>Mussolini was seen as a great leader by all th...</td>\n",
       "      <td>1</td>\n",
       "    </tr>\n",
       "    <tr>\n",
       "      <th>4</th>\n",
       "      <td>&amp;gt; indoctrination  coming from the guy who w...</td>\n",
       "      <td>1</td>\n",
       "    </tr>\n",
       "  </tbody>\n",
       "</table>\n",
       "</div>"
      ],
      "text/plain": [
       "                                                body  flagged\n",
       "0  This is a good tactic. People are moved in dif...        1\n",
       "1  Mussolini was seen as a great leader by all th...        1\n",
       "2                    [Multiculturalism for Israel!](        1\n",
       "3  Mussolini was seen as a great leader by all th...        1\n",
       "4  &gt; indoctrination  coming from the guy who w...        1"
      ]
     },
     "execution_count": 22,
     "metadata": {},
     "output_type": "execute_result"
    }
   ],
   "source": [
    "far_right.head()"
   ]
  },
  {
   "cell_type": "code",
   "execution_count": 23,
   "metadata": {},
   "outputs": [],
   "source": [
    "# gather total flagged results\n",
    "left_flagged = pd.concat([far_left[far_left['flagged'] == 1], left[left['flagged'] == 1]])\n",
    "right_flagged = pd.concat([far_right[far_right['flagged'] == 1], right[right['flagged'] == 1]])\n",
    "left_flagged.to_csv('./data/left_flagged.csv')\n",
    "right_flagged.to_csv('./data/right_flagged.csv')"
   ]
  },
  {
   "cell_type": "code",
   "execution_count": 59,
   "metadata": {},
   "outputs": [],
   "source": [
    "def modRun(df):\n",
    "    moderations = []\n",
    "    for chunk in tqdm(chunker(df,10)):\n",
    "        moderations += modAPI(chunk['body'].tolist())\n",
    "    return moderations"
   ]
  },
  {
   "cell_type": "code",
   "execution_count": 64,
   "metadata": {},
   "outputs": [],
   "source": [
    "def postprocessing(df, moderations):\n",
    "    df['moderation'] = moderations\n",
    "    df[['flagged_run', 'categories', 'scores']] = pd.DataFrame(df['moderation'].tolist(), index=df.index)\n",
    "    df['categories'] = df['categories'].apply(lambda x: dict(x))\n",
    "    df['scores'] = df['scores'].apply(lambda x: dict(x))\n",
    "    return df"
   ]
  },
  {
   "cell_type": "code",
   "execution_count": 38,
   "metadata": {},
   "outputs": [],
   "source": [
    "def chunker(seq, size):\n",
    "    return (seq[pos:pos + size] for pos in range(0, len(seq), size))"
   ]
  },
  {
   "cell_type": "code",
   "execution_count": null,
   "metadata": {},
   "outputs": [],
   "source": [
    "# left_flagged_moderations = modRun(left_flagged)\n",
    "right_flagged_moderations = modRun(right_flagged)"
   ]
  },
  {
   "cell_type": "code",
   "execution_count": 49,
   "metadata": {},
   "outputs": [
    {
     "name": "stderr",
     "output_type": "stream",
     "text": [
      "3163it [1:00:36,  1.15s/it]\n"
     ]
    }
   ],
   "source": [
    "# left_flagged_moderations = []\n",
    "# for chunk in tqdm(chunker(left_flagged,10)):\n",
    "#     left_flagged_moderations += modAPI(chunk['body'].tolist())"
   ]
  },
  {
   "cell_type": "code",
   "execution_count": 67,
   "metadata": {},
   "outputs": [],
   "source": [
    "with open('./data/left_flagged_moderated.pkl', 'wb') as handle:\n",
    "    pickle.dump(left_flagged_moderations, handle)\n",
    "\n",
    "postprocessing(left_flagged, left_flagged_moderations).to_csv('./data/left_flagged_moderated.csv')"
   ]
  }
 ],
 "metadata": {
  "kernelspec": {
   "display_name": "mod",
   "language": "python",
   "name": "python3"
  },
  "language_info": {
   "codemirror_mode": {
    "name": "ipython",
    "version": 3
   },
   "file_extension": ".py",
   "mimetype": "text/x-python",
   "name": "python",
   "nbconvert_exporter": "python",
   "pygments_lexer": "ipython3",
   "version": "3.11.8"
  }
 },
 "nbformat": 4,
 "nbformat_minor": 2
}
