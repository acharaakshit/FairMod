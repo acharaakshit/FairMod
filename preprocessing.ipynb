{
 "cells": [
  {
   "cell_type": "code",
   "execution_count": 150,
   "metadata": {},
   "outputs": [],
   "source": [
    "from openai import OpenAI\n",
    "import os\n",
    "import pandas as pd\n",
    "import numpy as np\n",
    "from tqdm import tqdm\n",
    "import pickle"
   ]
  },
  {
   "cell_type": "code",
   "execution_count": 195,
   "metadata": {},
   "outputs": [],
   "source": [
    "# subgroup based data\n",
    "left_subgroup = pd.read_csv('./data/left_flagged.csv')\n",
    "left_subgroup['label'] = ['left']*len(left_subgroup)\n",
    "right_subgroup = pd.read_csv('./data/right_flagged.csv')\n",
    "right_subgroup['label'] = ['right']*len(right_subgroup)\n",
    "ideology_subgroup = pd.concat([left_subgroup, right_subgroup])\n",
    "del ideology_subgroup['Unnamed: 0']\n",
    "del ideology_subgroup['flagged']\n",
    "ideology_subgroup['text'] = ideology_subgroup['body']\n",
    "del ideology_subgroup['body']"
   ]
  },
  {
   "cell_type": "code",
   "execution_count": 196,
   "metadata": {},
   "outputs": [],
   "source": [
    "ideology_subgroup.to_csv('./data/ideology_subgroup.csv')"
   ]
  },
  {
   "cell_type": "code",
   "execution_count": 198,
   "metadata": {},
   "outputs": [],
   "source": [
    "# manually annotated data\n",
    "ideology_labeled = pd.read_csv('./data/processed_annotated_comments.csv')\n",
    "del ideology_labeled['Unnamed: 0']"
   ]
  },
  {
   "cell_type": "code",
   "execution_count": 200,
   "metadata": {},
   "outputs": [],
   "source": [
    "ideology_labeled.to_csv('./data/ideology_annotated.csv')"
   ]
  }
 ],
 "metadata": {
  "kernelspec": {
   "display_name": "mod",
   "language": "python",
   "name": "python3"
  },
  "language_info": {
   "codemirror_mode": {
    "name": "ipython",
    "version": 3
   },
   "file_extension": ".py",
   "mimetype": "text/x-python",
   "name": "python",
   "nbconvert_exporter": "python",
   "pygments_lexer": "ipython3",
   "version": "3.11.8"
  }
 },
 "nbformat": 4,
 "nbformat_minor": 2
}
